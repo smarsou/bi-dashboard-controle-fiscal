{
 "cells": [
  {
   "cell_type": "markdown",
   "id": "1a4c541c",
   "metadata": {},
   "source": [
    "# Notebook présentant le process ETL pour ce projet\n",
    "\n",
    "Contenue du notebook :\n",
    "- Extraction des données depuis la source\n",
    "- Transformation des données\n",
    "- Et chargement des données dans PowerBI\n",
    "\n",
    "Source des données :\n",
    "- **REI_2021.xlsx** : Ce fichier est le dataset de toutes les données correspondant à la taxe foncière des propriétés bâties.\n",
    "- **TRACE_REI_2021.xlsx** : Ce fichier contient les informations relatives à toutes les colonnes du dataset."
   ]
  },
  {
   "cell_type": "markdown",
   "id": "a54436c8",
   "metadata": {},
   "source": [
    "### Installation des dépendances"
   ]
  },
  {
   "cell_type": "code",
   "execution_count": null,
   "id": "86aee8b3",
   "metadata": {},
   "outputs": [],
   "source": [
    "pip install openpyxl pandas duckdb  "
   ]
  },
  {
   "cell_type": "code",
   "execution_count": 5,
   "id": "8fbb7a30",
   "metadata": {},
   "outputs": [],
   "source": [
    "import duckdb\n",
    "import pandas as pd"
   ]
  },
  {
   "cell_type": "markdown",
   "id": "1ce34799",
   "metadata": {},
   "source": [
    "### Identification des colonnes que l'on doit garder"
   ]
  },
  {
   "cell_type": "code",
   "execution_count": 6,
   "id": "1f5f8308",
   "metadata": {},
   "outputs": [
    {
     "data": {
      "text/html": [
       "<div>\n",
       "<style scoped>\n",
       "    .dataframe tbody tr th:only-of-type {\n",
       "        vertical-align: middle;\n",
       "    }\n",
       "\n",
       "    .dataframe tbody tr th {\n",
       "        vertical-align: top;\n",
       "    }\n",
       "\n",
       "    .dataframe thead th {\n",
       "        text-align: right;\n",
       "    }\n",
       "</style>\n",
       "<table border=\"1\" class=\"dataframe\">\n",
       "  <thead>\n",
       "    <tr style=\"text-align: right;\">\n",
       "      <th></th>\n",
       "      <th>TITRE</th>\n",
       "      <th>OBSERVATIONS</th>\n",
       "    </tr>\n",
       "  </thead>\n",
       "  <tbody>\n",
       "    <tr>\n",
       "      <th>0</th>\n",
       "      <td>DEPARTEMENT</td>\n",
       "      <td>Code d'identification du département sur deux ...</td>\n",
       "    </tr>\n",
       "    <tr>\n",
       "      <th>1</th>\n",
       "      <td>DIRECTION</td>\n",
       "      <td>Donnée utilisée en interne par la Direction gé...</td>\n",
       "    </tr>\n",
       "    <tr>\n",
       "      <th>2</th>\n",
       "      <td>COMMUNE</td>\n",
       "      <td>Code officiel géographique d'identification d'...</td>\n",
       "    </tr>\n",
       "    <tr>\n",
       "      <th>3</th>\n",
       "      <td>COMMUNE RECENSEE (R si recensée)</td>\n",
       "      <td>Indicateur de recensement. Prend la valeur R p...</td>\n",
       "    </tr>\n",
       "    <tr>\n",
       "      <th>4</th>\n",
       "      <td>Numéro national du groupement</td>\n",
       "      <td>Donnée d'identification de l'EPCI à fiscalité ...</td>\n",
       "    </tr>\n",
       "  </tbody>\n",
       "</table>\n",
       "</div>"
      ],
      "text/plain": [
       "                              TITRE  \\\n",
       "0                       DEPARTEMENT   \n",
       "1                         DIRECTION   \n",
       "2                           COMMUNE   \n",
       "3  COMMUNE RECENSEE (R si recensée)   \n",
       "4     Numéro national du groupement   \n",
       "\n",
       "                                        OBSERVATIONS  \n",
       "0  Code d'identification du département sur deux ...  \n",
       "1  Donnée utilisée en interne par la Direction gé...  \n",
       "2  Code officiel géographique d'identification d'...  \n",
       "3  Indicateur de recensement. Prend la valeur R p...  \n",
       "4  Donnée d'identification de l'EPCI à fiscalité ...  "
      ]
     },
     "execution_count": 6,
     "metadata": {},
     "output_type": "execute_result"
    }
   ],
   "source": [
    "import pandas as pd\n",
    "\n",
    "df = pd.read_excel(\"TRACE_REI_2021.xlsx\", usecols=['TITRE', 'OBSERVATIONS'])\n",
    "df.columns.tolist()\n",
    "df.head()"
   ]
  },
  {
   "cell_type": "code",
   "execution_count": 7,
   "id": "0b8dc333",
   "metadata": {},
   "outputs": [],
   "source": [
    "cols = ['DEPARTEMENT',\n",
    " 'COMMUNE',\n",
    " 'Libellé commune',\n",
    " 'FB - COMMUNE / MONTANT REEL',\n",
    " 'FB - COMMUNE / BASE NETTE',\n",
    " 'FB - COMMUNE / TAUX NET',\n",
    " 'FB - COMMUNE / NOMBRE D\\'ARTICLES']"
   ]
  },
  {
   "cell_type": "markdown",
   "id": "19c5db0f",
   "metadata": {},
   "source": [
    "# ETL"
   ]
  },
  {
   "cell_type": "markdown",
   "id": "a43de798",
   "metadata": {},
   "source": [
    "## 1. Extraction des données"
   ]
  },
  {
   "cell_type": "markdown",
   "id": "00027adc",
   "metadata": {},
   "source": [
    "On extrait les données accessibles depuis le fichier 'REI_2021.xlsx' en utilisant duckdb pour un chargement plus efficace et rapide."
   ]
  },
  {
   "cell_type": "code",
   "execution_count": 8,
   "id": "4bbfa7f1",
   "metadata": {},
   "outputs": [
    {
     "data": {
      "text/plain": [
       "┌─────────────┬─────────┬───────────────────────────┬─────────────────────────────┬───────────────────────────┬─────────────────────────┬──────────────────────────────────┐\n",
       "│ DEPARTEMENT │ COMMUNE │      Libellé commune      │ FB - COMMUNE / MONTANT REEL │ FB - COMMUNE / BASE NETTE │ FB - COMMUNE / TAUX NET │ FB - COMMUNE / NOMBRE D'ARTICLES │\n",
       "│   varchar   │ varchar │          varchar          │           double            │          double           │         double          │              double              │\n",
       "├─────────────┼─────────┼───────────────────────────┼─────────────────────────────┼───────────────────────────┼─────────────────────────┼──────────────────────────────────┤\n",
       "│ 01          │ 001     │ ABERGEMENT CLEMENCIAT     │                    135026.0 │                  546255.0 │      24.769999980926514 │                            319.0 │\n",
       "│ 01          │ 002     │ ABERGEMENT DE VAREY       │                     57512.0 │                  212966.0 │                    27.0 │                            166.0 │\n",
       "│ 01          │ 004     │ AMBERIEU EN BUGEY         │                   7132676.0 │                19168668.0 │                   37.25 │                           4666.0 │\n",
       "│ 01          │ 005     │ AMBERIEUX EN DOMBES       │                    467318.0 │                 1377281.0 │      34.109999895095825 │                            699.0 │\n",
       "│ 01          │ 006     │ AMBLEON                   │                     24355.0 │                   89836.0 │       27.10999995470047 │                             63.0 │\n",
       "│ 01          │ 007     │ AMBRONAY                  │                    929828.0 │                 3062171.0 │      30.689999997615814 │                           1119.0 │\n",
       "│ 01          │ 008     │ AMBUTRIX                  │                    241935.0 │                  812191.0 │      29.899999976158142 │                            313.0 │\n",
       "│ 01          │ 009     │ ANDERT CONDON             │                     69270.0 │                  349403.0 │        19.9099999666214 │                            178.0 │\n",
       "│ 01          │ 010     │ ANGLEFORT                 │                    500396.0 │                 2076278.0 │      24.119999945163727 │                            511.0 │\n",
       "│ 01          │ 011     │ APREMONT                  │                     66647.0 │                  253913.0 │      26.259999990463257 │                            161.0 │\n",
       "│ ·           │  ·      │    ·                      │                        ·    │                      ·    │               ·         │                              ·   │\n",
       "│ ·           │  ·      │    ·                      │                        ·    │                      ·    │               ·         │                              ·   │\n",
       "│ ·           │  ·      │    ·                      │                        ·    │                      ·    │               ·         │                              ·   │\n",
       "│ 28          │ 092     │ CHATENAY                  │                     55019.0 │                  181002.0 │      30.219999969005585 │                            121.0 │\n",
       "│ 28          │ 094     │ CHAUDON                   │                    558569.0 │                 1334722.0 │       41.96999990940094 │                            746.0 │\n",
       "│ 28          │ 095     │ CHAUFFOURS                │                     73184.0 │                  185297.0 │       39.52999997138977 │                            114.0 │\n",
       "│ 28          │ 096     │ LA CHAUSSEE D'IVRY        │                    369781.0 │                 1066782.0 │      34.889999985694885 │                            499.0 │\n",
       "│ 28          │ 098     │ CHERISY                   │                    666292.0 │                 1793770.0 │        37.2299998998642 │                            789.0 │\n",
       "│ 28          │ 099     │ CHUISNES                  │                    267656.0 │                  696136.0 │        38.5699999332428 │                            457.0 │\n",
       "│ 28          │ 100     │ CINTRAY                   │                    127785.0 │                  286555.0 │       44.58999991416931 │                            171.0 │\n",
       "│ 28          │ 102     │ CLEVILLIERS               │                    186735.0 │                  471173.0 │       39.64999997615814 │                            288.0 │\n",
       "│ 28          │ 103     │ CLOYES LES TROIS RIVIERES │                   2273595.0 │                 5456732.0 │       41.66586995124817 │                           2890.0 │\n",
       "│ 28          │ 104     │ COLTAINVILLE              │                    229437.0 │                  674680.0 │                    34.0 │                            385.0 │\n",
       "├─────────────┴─────────┴───────────────────────────┴─────────────────────────────┴───────────────────────────┴─────────────────────────┴──────────────────────────────────┤\n",
       "│ ? rows (>9999 rows, 20 shown)                                                                                                                                  7 columns │\n",
       "└──────────────────────────────────────────────────────────────────────────────────────────────────────────────────────────────────────────────────────────────────────────┘"
      ]
     },
     "execution_count": 8,
     "metadata": {},
     "output_type": "execute_result"
    }
   ],
   "source": [
    "query = f\"\"\"\n",
    "    SELECT {', '.join([f'\"{col}\"' for col in cols])}\n",
    "    FROM REI_2021.xlsx\n",
    "\"\"\"\n",
    "\n",
    "duckdf = duckdb.sql(query)\n",
    "duckdf"
   ]
  },
  {
   "cell_type": "markdown",
   "id": "e1fd1b68",
   "metadata": {},
   "source": [
    "On convertit le dataset duckdb en DataFrame (pandas) puis on affiche quelques informations supplémentaires sur l'ensemble de données."
   ]
  },
  {
   "cell_type": "code",
   "execution_count": 9,
   "id": "8e292fc0",
   "metadata": {},
   "outputs": [
    {
     "name": "stdout",
     "output_type": "stream",
     "text": [
      "<class 'pandas.core.frame.DataFrame'>\n",
      "RangeIndex: 34969 entries, 0 to 34968\n",
      "Data columns (total 7 columns):\n",
      " #   Column                            Non-Null Count  Dtype  \n",
      "---  ------                            --------------  -----  \n",
      " 0   DEPARTEMENT                       34969 non-null  object \n",
      " 1   COMMUNE                           34969 non-null  object \n",
      " 2   Libellé commune                   34969 non-null  object \n",
      " 3   FB - COMMUNE / MONTANT REEL       34893 non-null  float64\n",
      " 4   FB - COMMUNE / BASE NETTE         34893 non-null  float64\n",
      " 5   FB - COMMUNE / TAUX NET           34969 non-null  float64\n",
      " 6   FB - COMMUNE / NOMBRE D'ARTICLES  34893 non-null  float64\n",
      "dtypes: float64(4), object(3)\n",
      "memory usage: 1.9+ MB\n"
     ]
    }
   ],
   "source": [
    "df = duckdf.df()\n",
    "df.info()"
   ]
  },
  {
   "cell_type": "markdown",
   "id": "8d7f51c4",
   "metadata": {},
   "source": [
    "## 2. Transformation des données"
   ]
  },
  {
   "cell_type": "markdown",
   "id": "bc58f734",
   "metadata": {},
   "source": [
    "On commence par supprimer les données qui contiennent des valeurs nulles et/ou une base nette non positive."
   ]
  },
  {
   "cell_type": "code",
   "execution_count": 10,
   "id": "85805a15",
   "metadata": {},
   "outputs": [],
   "source": [
    "df.dropna()\n",
    "df = df[df['FB - COMMUNE / BASE NETTE'] > 0]"
   ]
  },
  {
   "cell_type": "markdown",
   "id": "6db90bc7",
   "metadata": {},
   "source": [
    "Durant l'exploration des données, nous avons pu voir que la colonne COMMUNE contient uniquement les 3 derniers chiffres du code INSEE (001 pour une ville dont le code est 57001). On va transformer cette colonne pour obtenir le code INSEE, ce qui permettra d'avoir un identifiant unique depuis cette colonne."
   ]
  },
  {
   "cell_type": "code",
   "execution_count": 11,
   "id": "dc1c6f6a",
   "metadata": {},
   "outputs": [],
   "source": [
    "df['COMMUNE'] = df['DEPARTEMENT'].astype(str) + df['COMMUNE'].astype(str)"
   ]
  },
  {
   "cell_type": "markdown",
   "id": "584c3433",
   "metadata": {},
   "source": [
    "Maintenant que l'on a une colonne qui fait office d'identifiant unique pour chaque ville, on vérifie maintenant si il existe des doublons (chaque commune doit avoir une unique ligne de données)."
   ]
  },
  {
   "cell_type": "code",
   "execution_count": 12,
   "id": "13bd59f2",
   "metadata": {},
   "outputs": [
    {
     "data": {
      "text/html": [
       "<div>\n",
       "<style scoped>\n",
       "    .dataframe tbody tr th:only-of-type {\n",
       "        vertical-align: middle;\n",
       "    }\n",
       "\n",
       "    .dataframe tbody tr th {\n",
       "        vertical-align: top;\n",
       "    }\n",
       "\n",
       "    .dataframe thead th {\n",
       "        text-align: right;\n",
       "    }\n",
       "</style>\n",
       "<table border=\"1\" class=\"dataframe\">\n",
       "  <thead>\n",
       "    <tr style=\"text-align: right;\">\n",
       "      <th></th>\n",
       "      <th>DEPARTEMENT</th>\n",
       "      <th>COMMUNE</th>\n",
       "      <th>Libellé commune</th>\n",
       "      <th>FB - COMMUNE / MONTANT REEL</th>\n",
       "      <th>FB - COMMUNE / BASE NETTE</th>\n",
       "      <th>FB - COMMUNE / TAUX NET</th>\n",
       "      <th>FB - COMMUNE / NOMBRE D'ARTICLES</th>\n",
       "    </tr>\n",
       "  </thead>\n",
       "  <tbody>\n",
       "  </tbody>\n",
       "</table>\n",
       "</div>"
      ],
      "text/plain": [
       "Empty DataFrame\n",
       "Columns: [DEPARTEMENT, COMMUNE, Libellé commune, FB - COMMUNE / MONTANT REEL, FB - COMMUNE / BASE NETTE, FB - COMMUNE / TAUX NET, FB - COMMUNE / NOMBRE D'ARTICLES]\n",
       "Index: []"
      ]
     },
     "execution_count": 12,
     "metadata": {},
     "output_type": "execute_result"
    }
   ],
   "source": [
    "df[df.duplicated('COMMUNE')]"
   ]
  },
  {
   "cell_type": "markdown",
   "id": "b9b5aa57",
   "metadata": {},
   "source": [
    "Aucun doublon détecté."
   ]
  },
  {
   "cell_type": "markdown",
   "id": "e0784e85",
   "metadata": {},
   "source": [
    "Ensuite, on créer de nouvelles colonnes calculés. Ces nouvelles colonnes sont interessantes pour la mise en place de dashboard BI, comme le produit attendu pour chaque commune, ou encore l'écart relatif qu'il y a entre le produit réel et le produit attendu."
   ]
  },
  {
   "cell_type": "code",
   "execution_count": 13,
   "id": "b03c904e",
   "metadata": {},
   "outputs": [],
   "source": [
    "df['PRODUIT_ATTENDU'] = df['FB - COMMUNE / BASE NETTE'] * df['FB - COMMUNE / TAUX NET'] / 100"
   ]
  },
  {
   "cell_type": "code",
   "execution_count": 14,
   "id": "2e2d9378",
   "metadata": {},
   "outputs": [],
   "source": [
    "df['ECART_RELATIF'] = abs(df['FB - COMMUNE / MONTANT REEL'] - df['PRODUIT_ATTENDU']) / df['PRODUIT_ATTENDU']"
   ]
  },
  {
   "cell_type": "code",
   "execution_count": 15,
   "id": "afa87bf8",
   "metadata": {},
   "outputs": [],
   "source": [
    "df['ECART_RELATIF_NON_ABSOLU'] = (df['FB - COMMUNE / MONTANT REEL'] - df['PRODUIT_ATTENDU']) / df['PRODUIT_ATTENDU']"
   ]
  },
  {
   "cell_type": "markdown",
   "id": "11dc0629",
   "metadata": {},
   "source": [
    "Pour terminer, nous allons renommer les colonnes pour une compréhension plus simple."
   ]
  },
  {
   "cell_type": "code",
   "execution_count": 16,
   "id": "ed6c588c",
   "metadata": {},
   "outputs": [],
   "source": [
    "df.rename(columns={\n",
    "    'COMMUNE' : 'CODE_INSEE',\n",
    "    'Libellé commune' : 'NOM_COMMUNE',\n",
    "    'FB - COMMUNE / MONTANT REEL': 'MONTANT_REEL',\n",
    "    'FB - COMMUNE / BASE NETTE': 'BASE_NETTE',\n",
    "    'FB - COMMUNE / TAUX NET': 'TAUX_NET',\n",
    "    'FB - COMMUNE / NOMBRE D\\'ARTICLES': 'NOMBRE_ARTICLES'\n",
    "}, inplace=True)"
   ]
  },
  {
   "cell_type": "code",
   "execution_count": 17,
   "id": "828a2b6d",
   "metadata": {},
   "outputs": [
    {
     "name": "stdout",
     "output_type": "stream",
     "text": [
      "<class 'pandas.core.frame.DataFrame'>\n",
      "Index: 34885 entries, 0 to 34968\n",
      "Data columns (total 10 columns):\n",
      " #   Column                    Non-Null Count  Dtype  \n",
      "---  ------                    --------------  -----  \n",
      " 0   DEPARTEMENT               34885 non-null  object \n",
      " 1   CODE_INSEE                34885 non-null  object \n",
      " 2   NOM_COMMUNE               34885 non-null  object \n",
      " 3   MONTANT_REEL              34885 non-null  float64\n",
      " 4   BASE_NETTE                34885 non-null  float64\n",
      " 5   TAUX_NET                  34885 non-null  float64\n",
      " 6   NOMBRE_ARTICLES           34885 non-null  float64\n",
      " 7   PRODUIT_ATTENDU           34885 non-null  float64\n",
      " 8   ECART_RELATIF             34884 non-null  float64\n",
      " 9   ECART_RELATIF_NON_ABSOLU  34884 non-null  float64\n",
      "dtypes: float64(7), object(3)\n",
      "memory usage: 2.9+ MB\n"
     ]
    }
   ],
   "source": [
    "df.info()"
   ]
  },
  {
   "cell_type": "markdown",
   "id": "928bfbbc",
   "metadata": {},
   "source": [
    "## 3. Chargement des données dans PowerBI"
   ]
  },
  {
   "cell_type": "markdown",
   "id": "a83b0b42",
   "metadata": {},
   "source": [
    "Dans ce projet, nous accédons aux données depuis PowerBI en accédant au fichier `etl_output.csv`. \n",
    "\n",
    "Ainsi, pour cette étape, il suffit alors d'exporter le dataset au format csv sous le nom `etl_output.csv`."
   ]
  },
  {
   "cell_type": "code",
   "execution_count": 18,
   "id": "a0e7d0da",
   "metadata": {},
   "outputs": [],
   "source": [
    "df.to_csv('etl_output.csv', index=False)"
   ]
  }
 ],
 "metadata": {
  "kernelspec": {
   "display_name": ".venv",
   "language": "python",
   "name": "python3"
  },
  "language_info": {
   "codemirror_mode": {
    "name": "ipython",
    "version": 3
   },
   "file_extension": ".py",
   "mimetype": "text/x-python",
   "name": "python",
   "nbconvert_exporter": "python",
   "pygments_lexer": "ipython3",
   "version": "3.11.9"
  }
 },
 "nbformat": 4,
 "nbformat_minor": 5
}
